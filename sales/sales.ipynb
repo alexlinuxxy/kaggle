{
 "cells": [
  {
   "cell_type": "code",
   "execution_count": 2,
   "metadata": {},
   "outputs": [],
   "source": [
    "%matplotlib inline\n",
    "%reload_ext autoreload\n",
    "%autoreload 2"
   ]
  },
  {
   "cell_type": "code",
   "execution_count": 3,
   "metadata": {},
   "outputs": [],
   "source": [
    "from fastai.structured import *\n",
    "from fastai.column_data import *\n",
    "np.set_printoptions(threshold=50, edgeitems=20)"
   ]
  },
  {
   "cell_type": "code",
   "execution_count": 4,
   "metadata": {},
   "outputs": [
    {
     "name": "stdout",
     "output_type": "stream",
     "text": [
      "item_categories.csv  \u001b[0m\u001b[01;34mmodel\u001b[0m/           sample_submission.csv  test.csv\r\n",
      "items.csv            sales_train.csv  shops.csv              \u001b[01;34mtmp\u001b[0m/\r\n"
     ]
    }
   ],
   "source": [
    "PATH='data/sales/'\n",
    "\n",
    "TMP_DIR = f'{PATH}/tmp'\n",
    "MODEL_DIR = f'{PATH}/model'\n",
    "\n",
    "os.makedirs(TMP_DIR, exist_ok=True)\n",
    "os.makedirs(MODEL_DIR, exist_ok=True)\n",
    "%ls {PATH}"
   ]
  },
  {
   "cell_type": "markdown",
   "metadata": {},
   "source": [
    "### Pre-processing"
   ]
  },
  {
   "cell_type": "code",
   "execution_count": 5,
   "metadata": {},
   "outputs": [],
   "source": [
    "df_train = pd.read_csv(f'{PATH}/sales_train.csv', parse_dates=['date'])"
   ]
  },
  {
   "cell_type": "code",
   "execution_count": 6,
   "metadata": {},
   "outputs": [
    {
     "data": {
      "text/html": [
       "<div>\n",
       "<style scoped>\n",
       "    .dataframe tbody tr th:only-of-type {\n",
       "        vertical-align: middle;\n",
       "    }\n",
       "\n",
       "    .dataframe tbody tr th {\n",
       "        vertical-align: top;\n",
       "    }\n",
       "\n",
       "    .dataframe thead th {\n",
       "        text-align: right;\n",
       "    }\n",
       "</style>\n",
       "<table border=\"1\" class=\"dataframe\">\n",
       "  <thead>\n",
       "    <tr style=\"text-align: right;\">\n",
       "      <th></th>\n",
       "      <th>count</th>\n",
       "      <th>unique</th>\n",
       "      <th>top</th>\n",
       "      <th>freq</th>\n",
       "      <th>first</th>\n",
       "      <th>last</th>\n",
       "      <th>mean</th>\n",
       "      <th>std</th>\n",
       "      <th>min</th>\n",
       "      <th>25%</th>\n",
       "      <th>50%</th>\n",
       "      <th>75%</th>\n",
       "      <th>max</th>\n",
       "    </tr>\n",
       "  </thead>\n",
       "  <tbody>\n",
       "    <tr>\n",
       "      <th>date</th>\n",
       "      <td>2935849</td>\n",
       "      <td>1034</td>\n",
       "      <td>2013-12-28 00:00:00</td>\n",
       "      <td>9434</td>\n",
       "      <td>2013-01-01 00:00:00</td>\n",
       "      <td>2015-12-10 00:00:00</td>\n",
       "      <td>NaN</td>\n",
       "      <td>NaN</td>\n",
       "      <td>NaN</td>\n",
       "      <td>NaN</td>\n",
       "      <td>NaN</td>\n",
       "      <td>NaN</td>\n",
       "      <td>NaN</td>\n",
       "    </tr>\n",
       "    <tr>\n",
       "      <th>date_block_num</th>\n",
       "      <td>2.93585e+06</td>\n",
       "      <td>NaN</td>\n",
       "      <td>NaN</td>\n",
       "      <td>NaN</td>\n",
       "      <td>NaN</td>\n",
       "      <td>NaN</td>\n",
       "      <td>14.5699</td>\n",
       "      <td>9.42299</td>\n",
       "      <td>0</td>\n",
       "      <td>7</td>\n",
       "      <td>14</td>\n",
       "      <td>23</td>\n",
       "      <td>33</td>\n",
       "    </tr>\n",
       "    <tr>\n",
       "      <th>shop_id</th>\n",
       "      <td>2.93585e+06</td>\n",
       "      <td>NaN</td>\n",
       "      <td>NaN</td>\n",
       "      <td>NaN</td>\n",
       "      <td>NaN</td>\n",
       "      <td>NaN</td>\n",
       "      <td>33.0017</td>\n",
       "      <td>16.227</td>\n",
       "      <td>0</td>\n",
       "      <td>22</td>\n",
       "      <td>31</td>\n",
       "      <td>47</td>\n",
       "      <td>59</td>\n",
       "    </tr>\n",
       "    <tr>\n",
       "      <th>item_id</th>\n",
       "      <td>2.93585e+06</td>\n",
       "      <td>NaN</td>\n",
       "      <td>NaN</td>\n",
       "      <td>NaN</td>\n",
       "      <td>NaN</td>\n",
       "      <td>NaN</td>\n",
       "      <td>10197.2</td>\n",
       "      <td>6324.3</td>\n",
       "      <td>0</td>\n",
       "      <td>4476</td>\n",
       "      <td>9343</td>\n",
       "      <td>15684</td>\n",
       "      <td>22169</td>\n",
       "    </tr>\n",
       "    <tr>\n",
       "      <th>item_price</th>\n",
       "      <td>2.93585e+06</td>\n",
       "      <td>NaN</td>\n",
       "      <td>NaN</td>\n",
       "      <td>NaN</td>\n",
       "      <td>NaN</td>\n",
       "      <td>NaN</td>\n",
       "      <td>890.853</td>\n",
       "      <td>1729.8</td>\n",
       "      <td>-1</td>\n",
       "      <td>249</td>\n",
       "      <td>399</td>\n",
       "      <td>999</td>\n",
       "      <td>307980</td>\n",
       "    </tr>\n",
       "    <tr>\n",
       "      <th>item_cnt_day</th>\n",
       "      <td>2.93585e+06</td>\n",
       "      <td>NaN</td>\n",
       "      <td>NaN</td>\n",
       "      <td>NaN</td>\n",
       "      <td>NaN</td>\n",
       "      <td>NaN</td>\n",
       "      <td>1.24264</td>\n",
       "      <td>2.61883</td>\n",
       "      <td>-22</td>\n",
       "      <td>1</td>\n",
       "      <td>1</td>\n",
       "      <td>1</td>\n",
       "      <td>2169</td>\n",
       "    </tr>\n",
       "  </tbody>\n",
       "</table>\n",
       "</div>"
      ],
      "text/plain": [
       "                      count unique                  top  freq  \\\n",
       "date                2935849   1034  2013-12-28 00:00:00  9434   \n",
       "date_block_num  2.93585e+06    NaN                  NaN   NaN   \n",
       "shop_id         2.93585e+06    NaN                  NaN   NaN   \n",
       "item_id         2.93585e+06    NaN                  NaN   NaN   \n",
       "item_price      2.93585e+06    NaN                  NaN   NaN   \n",
       "item_cnt_day    2.93585e+06    NaN                  NaN   NaN   \n",
       "\n",
       "                              first                 last     mean      std  \\\n",
       "date            2013-01-01 00:00:00  2015-12-10 00:00:00      NaN      NaN   \n",
       "date_block_num                  NaN                  NaN  14.5699  9.42299   \n",
       "shop_id                         NaN                  NaN  33.0017   16.227   \n",
       "item_id                         NaN                  NaN  10197.2   6324.3   \n",
       "item_price                      NaN                  NaN  890.853   1729.8   \n",
       "item_cnt_day                    NaN                  NaN  1.24264  2.61883   \n",
       "\n",
       "                min   25%   50%    75%     max  \n",
       "date            NaN   NaN   NaN    NaN     NaN  \n",
       "date_block_num    0     7    14     23      33  \n",
       "shop_id           0    22    31     47      59  \n",
       "item_id           0  4476  9343  15684   22169  \n",
       "item_price       -1   249   399    999  307980  \n",
       "item_cnt_day    -22     1     1      1    2169  "
      ]
     },
     "execution_count": 6,
     "metadata": {},
     "output_type": "execute_result"
    }
   ],
   "source": [
    "df_train.describe(include='all').T"
   ]
  },
  {
   "cell_type": "code",
   "execution_count": 9,
   "metadata": {},
   "outputs": [],
   "source": [
    "df_test = pd.read_csv(f'{PATH}/test.csv')\n",
    "df_shops = pd.read_csv(f'{PATH}/shops.csv')\n",
    "df_categories = pd.read_csv(f'{PATH}/item_categories.csv')\n",
    "df_items = pd.read_csv(f'{PATH}/items.csv')\n",
    "df_submission = pd.read_csv(f'{PATH}/sample_submission.csv')"
   ]
  },
  {
   "cell_type": "code",
   "execution_count": 8,
   "metadata": {},
   "outputs": [
    {
     "data": {
      "text/html": [
       "<div>\n",
       "<style scoped>\n",
       "    .dataframe tbody tr th:only-of-type {\n",
       "        vertical-align: middle;\n",
       "    }\n",
       "\n",
       "    .dataframe tbody tr th {\n",
       "        vertical-align: top;\n",
       "    }\n",
       "\n",
       "    .dataframe thead th {\n",
       "        text-align: right;\n",
       "    }\n",
       "</style>\n",
       "<table border=\"1\" class=\"dataframe\">\n",
       "  <thead>\n",
       "    <tr style=\"text-align: right;\">\n",
       "      <th></th>\n",
       "      <th>214195</th>\n",
       "      <th>214196</th>\n",
       "      <th>214197</th>\n",
       "      <th>214198</th>\n",
       "      <th>214199</th>\n",
       "    </tr>\n",
       "  </thead>\n",
       "  <tbody>\n",
       "    <tr>\n",
       "      <th>ID</th>\n",
       "      <td>214195</td>\n",
       "      <td>214196</td>\n",
       "      <td>214197</td>\n",
       "      <td>214198</td>\n",
       "      <td>214199</td>\n",
       "    </tr>\n",
       "    <tr>\n",
       "      <th>shop_id</th>\n",
       "      <td>45</td>\n",
       "      <td>45</td>\n",
       "      <td>45</td>\n",
       "      <td>45</td>\n",
       "      <td>45</td>\n",
       "    </tr>\n",
       "    <tr>\n",
       "      <th>item_id</th>\n",
       "      <td>18454</td>\n",
       "      <td>16188</td>\n",
       "      <td>15757</td>\n",
       "      <td>19648</td>\n",
       "      <td>969</td>\n",
       "    </tr>\n",
       "  </tbody>\n",
       "</table>\n",
       "</div>"
      ],
      "text/plain": [
       "         214195  214196  214197  214198  214199\n",
       "ID       214195  214196  214197  214198  214199\n",
       "shop_id      45      45      45      45      45\n",
       "item_id   18454   16188   15757   19648     969"
      ]
     },
     "execution_count": 8,
     "metadata": {},
     "output_type": "execute_result"
    }
   ],
   "source": [
    "df_test.tail().T"
   ]
  },
  {
   "cell_type": "code",
   "execution_count": 10,
   "metadata": {},
   "outputs": [
    {
     "data": {
      "text/html": [
       "<div>\n",
       "<style scoped>\n",
       "    .dataframe tbody tr th:only-of-type {\n",
       "        vertical-align: middle;\n",
       "    }\n",
       "\n",
       "    .dataframe tbody tr th {\n",
       "        vertical-align: top;\n",
       "    }\n",
       "\n",
       "    .dataframe thead th {\n",
       "        text-align: right;\n",
       "    }\n",
       "</style>\n",
       "<table border=\"1\" class=\"dataframe\">\n",
       "  <thead>\n",
       "    <tr style=\"text-align: right;\">\n",
       "      <th></th>\n",
       "      <th>55</th>\n",
       "      <th>56</th>\n",
       "      <th>57</th>\n",
       "      <th>58</th>\n",
       "      <th>59</th>\n",
       "    </tr>\n",
       "  </thead>\n",
       "  <tbody>\n",
       "    <tr>\n",
       "      <th>shop_name</th>\n",
       "      <td>Цифровой склад 1С-Онлайн</td>\n",
       "      <td>Чехов ТРЦ \"Карнавал\"</td>\n",
       "      <td>Якутск Орджоникидзе, 56</td>\n",
       "      <td>Якутск ТЦ \"Центральный\"</td>\n",
       "      <td>Ярославль ТЦ \"Альтаир\"</td>\n",
       "    </tr>\n",
       "    <tr>\n",
       "      <th>shop_id</th>\n",
       "      <td>55</td>\n",
       "      <td>56</td>\n",
       "      <td>57</td>\n",
       "      <td>58</td>\n",
       "      <td>59</td>\n",
       "    </tr>\n",
       "  </tbody>\n",
       "</table>\n",
       "</div>"
      ],
      "text/plain": [
       "                                 55                    56  \\\n",
       "shop_name  Цифровой склад 1С-Онлайн  Чехов ТРЦ \"Карнавал\"   \n",
       "shop_id                          55                    56   \n",
       "\n",
       "                                57                       58  \\\n",
       "shop_name  Якутск Орджоникидзе, 56  Якутск ТЦ \"Центральный\"   \n",
       "shop_id                         57                       58   \n",
       "\n",
       "                               59  \n",
       "shop_name  Ярославль ТЦ \"Альтаир\"  \n",
       "shop_id                        59  "
      ]
     },
     "execution_count": 10,
     "metadata": {},
     "output_type": "execute_result"
    }
   ],
   "source": [
    "df_shops.tail().T"
   ]
  },
  {
   "cell_type": "code",
   "execution_count": 11,
   "metadata": {},
   "outputs": [
    {
     "data": {
      "text/html": [
       "<div>\n",
       "<style scoped>\n",
       "    .dataframe tbody tr th:only-of-type {\n",
       "        vertical-align: middle;\n",
       "    }\n",
       "\n",
       "    .dataframe tbody tr th {\n",
       "        vertical-align: top;\n",
       "    }\n",
       "\n",
       "    .dataframe thead th {\n",
       "        text-align: right;\n",
       "    }\n",
       "</style>\n",
       "<table border=\"1\" class=\"dataframe\">\n",
       "  <thead>\n",
       "    <tr style=\"text-align: right;\">\n",
       "      <th></th>\n",
       "      <th>79</th>\n",
       "      <th>80</th>\n",
       "      <th>81</th>\n",
       "      <th>82</th>\n",
       "      <th>83</th>\n",
       "    </tr>\n",
       "  </thead>\n",
       "  <tbody>\n",
       "    <tr>\n",
       "      <th>item_category_name</th>\n",
       "      <td>Служебные</td>\n",
       "      <td>Служебные - Билеты</td>\n",
       "      <td>Чистые носители (шпиль)</td>\n",
       "      <td>Чистые носители (штучные)</td>\n",
       "      <td>Элементы питания</td>\n",
       "    </tr>\n",
       "    <tr>\n",
       "      <th>item_category_id</th>\n",
       "      <td>79</td>\n",
       "      <td>80</td>\n",
       "      <td>81</td>\n",
       "      <td>82</td>\n",
       "      <td>83</td>\n",
       "    </tr>\n",
       "  </tbody>\n",
       "</table>\n",
       "</div>"
      ],
      "text/plain": [
       "                           79                  80                       81  \\\n",
       "item_category_name  Служебные  Служебные - Билеты  Чистые носители (шпиль)   \n",
       "item_category_id           79                  80                       81   \n",
       "\n",
       "                                           82                83  \n",
       "item_category_name  Чистые носители (штучные)  Элементы питания  \n",
       "item_category_id                           82                83  "
      ]
     },
     "execution_count": 11,
     "metadata": {},
     "output_type": "execute_result"
    }
   ],
   "source": [
    "df_categories.tail().T"
   ]
  },
  {
   "cell_type": "code",
   "execution_count": 12,
   "metadata": {},
   "outputs": [
    {
     "data": {
      "text/html": [
       "<div>\n",
       "<style scoped>\n",
       "    .dataframe tbody tr th:only-of-type {\n",
       "        vertical-align: middle;\n",
       "    }\n",
       "\n",
       "    .dataframe tbody tr th {\n",
       "        vertical-align: top;\n",
       "    }\n",
       "\n",
       "    .dataframe thead th {\n",
       "        text-align: right;\n",
       "    }\n",
       "</style>\n",
       "<table border=\"1\" class=\"dataframe\">\n",
       "  <thead>\n",
       "    <tr style=\"text-align: right;\">\n",
       "      <th></th>\n",
       "      <th>22165</th>\n",
       "      <th>22166</th>\n",
       "      <th>22167</th>\n",
       "      <th>22168</th>\n",
       "      <th>22169</th>\n",
       "    </tr>\n",
       "  </thead>\n",
       "  <tbody>\n",
       "    <tr>\n",
       "      <th>item_name</th>\n",
       "      <td>Ядерный титбит 2 [PC, Цифровая версия]</td>\n",
       "      <td>Язык запросов 1С:Предприятия  [Цифровая версия]</td>\n",
       "      <td>Язык запросов 1С:Предприятия 8 (+CD). Хрустале...</td>\n",
       "      <td>Яйцо для Little Inu</td>\n",
       "      <td>Яйцо дракона (Игра престолов)</td>\n",
       "    </tr>\n",
       "    <tr>\n",
       "      <th>item_id</th>\n",
       "      <td>22165</td>\n",
       "      <td>22166</td>\n",
       "      <td>22167</td>\n",
       "      <td>22168</td>\n",
       "      <td>22169</td>\n",
       "    </tr>\n",
       "    <tr>\n",
       "      <th>item_category_id</th>\n",
       "      <td>31</td>\n",
       "      <td>54</td>\n",
       "      <td>49</td>\n",
       "      <td>62</td>\n",
       "      <td>69</td>\n",
       "    </tr>\n",
       "  </tbody>\n",
       "</table>\n",
       "</div>"
      ],
      "text/plain": [
       "                                                   22165  \\\n",
       "item_name         Ядерный титбит 2 [PC, Цифровая версия]   \n",
       "item_id                                            22165   \n",
       "item_category_id                                      31   \n",
       "\n",
       "                                                            22166  \\\n",
       "item_name         Язык запросов 1С:Предприятия  [Цифровая версия]   \n",
       "item_id                                                     22166   \n",
       "item_category_id                                               54   \n",
       "\n",
       "                                                              22167  \\\n",
       "item_name         Язык запросов 1С:Предприятия 8 (+CD). Хрустале...   \n",
       "item_id                                                       22167   \n",
       "item_category_id                                                 49   \n",
       "\n",
       "                                22168                          22169  \n",
       "item_name         Яйцо для Little Inu  Яйцо дракона (Игра престолов)  \n",
       "item_id                         22168                          22169  \n",
       "item_category_id                   62                             69  "
      ]
     },
     "execution_count": 12,
     "metadata": {},
     "output_type": "execute_result"
    }
   ],
   "source": [
    "df_items.tail().T"
   ]
  },
  {
   "cell_type": "code",
   "execution_count": 13,
   "metadata": {},
   "outputs": [
    {
     "data": {
      "text/html": [
       "<div>\n",
       "<style scoped>\n",
       "    .dataframe tbody tr th:only-of-type {\n",
       "        vertical-align: middle;\n",
       "    }\n",
       "\n",
       "    .dataframe tbody tr th {\n",
       "        vertical-align: top;\n",
       "    }\n",
       "\n",
       "    .dataframe thead th {\n",
       "        text-align: right;\n",
       "    }\n",
       "</style>\n",
       "<table border=\"1\" class=\"dataframe\">\n",
       "  <thead>\n",
       "    <tr style=\"text-align: right;\">\n",
       "      <th></th>\n",
       "      <th>214195</th>\n",
       "      <th>214196</th>\n",
       "      <th>214197</th>\n",
       "      <th>214198</th>\n",
       "      <th>214199</th>\n",
       "    </tr>\n",
       "  </thead>\n",
       "  <tbody>\n",
       "    <tr>\n",
       "      <th>ID</th>\n",
       "      <td>214195.0</td>\n",
       "      <td>214196.0</td>\n",
       "      <td>214197.0</td>\n",
       "      <td>214198.0</td>\n",
       "      <td>214199.0</td>\n",
       "    </tr>\n",
       "    <tr>\n",
       "      <th>item_cnt_month</th>\n",
       "      <td>0.5</td>\n",
       "      <td>0.5</td>\n",
       "      <td>0.5</td>\n",
       "      <td>0.5</td>\n",
       "      <td>0.5</td>\n",
       "    </tr>\n",
       "  </tbody>\n",
       "</table>\n",
       "</div>"
      ],
      "text/plain": [
       "                  214195    214196    214197    214198    214199\n",
       "ID              214195.0  214196.0  214197.0  214198.0  214199.0\n",
       "item_cnt_month       0.5       0.5       0.5       0.5       0.5"
      ]
     },
     "execution_count": 13,
     "metadata": {},
     "output_type": "execute_result"
    }
   ],
   "source": [
    "df_submission.tail().T"
   ]
  },
  {
   "cell_type": "code",
   "execution_count": 19,
   "metadata": {},
   "outputs": [],
   "source": [
    "df_train = df_train.merge(df_items, on='item_id').drop('item_name', axis=1)"
   ]
  },
  {
   "cell_type": "code",
   "execution_count": 20,
   "metadata": {},
   "outputs": [],
   "source": [
    "add_datepart(df_train, 'date', drop=False)"
   ]
  },
  {
   "cell_type": "code",
   "execution_count": 24,
   "metadata": {},
   "outputs": [
    {
     "data": {
      "text/plain": [
       "Index(['date', 'date_block_num', 'shop_id', 'item_id', 'item_price',\n",
       "       'item_cnt_day', 'item_category_id', 'Year', 'Month', 'Week', 'Day',\n",
       "       'Dayofweek', 'Dayofyear', 'Is_month_end', 'Is_month_start',\n",
       "       'Is_quarter_end', 'Is_quarter_start', 'Is_year_end', 'Is_year_start',\n",
       "       'Elapsed'],\n",
       "      dtype='object')"
      ]
     },
     "execution_count": 24,
     "metadata": {},
     "output_type": "execute_result"
    }
   ],
   "source": [
    "df_train.columns"
   ]
  },
  {
   "cell_type": "code",
   "execution_count": 26,
   "metadata": {},
   "outputs": [
    {
     "data": {
      "text/plain": [
       "Year  Month\n",
       "2013  1        [23, 20, 26, 27, 14, 4, 15, 24, 28, 29, 2, 30,...\n",
       "      2        [1, 22, 26, 15, 8, 13, 28, 18, 5, 7, 24, 16, 1...\n",
       "      3        [1, 21, 13, 31, 7, 8, 26, 17, 22, 29, 24, 25, ...\n",
       "      4        [29, 15, 25, 16, 26, 28, 21, 2, 8, 10, 13, 1, ...\n",
       "      5        [1, 2, 3, 10, 24, 14, 4, 25, 18, 15, 26, 19, 1...\n",
       "      6        [1, 23, 25, 12, 27, 7, 2, 21, 20, 29, 15, 10, ...\n",
       "      7        [14, 21, 20, 4, 31, 9, 12, 2, 3, 5, 29, 28, 16...\n",
       "      8        [1, 8, 20, 3, 24, 30, 31, 17, 6, 16, 15, 4, 5,...\n",
       "      9        [13, 16, 22, 5, 8, 27, 24, 28, 15, 1, 2, 26, 1...\n",
       "      10       [1, 2, 27, 19, 26, 4, 6, 30, 3, 7, 11, 5, 8, 9...\n",
       "      11       [10, 3, 4, 17, 23, 29, 16, 25, 8, 1, 5, 28, 2,...\n",
       "      12       [2, 31, 9, 30, 29, 28, 11, 23, 20, 5, 26, 4, 6...\n",
       "2014  1        [19, 27, 4, 17, 23, 1, 25, 28, 18, 14, 26, 24,...\n",
       "      2        [22, 7, 19, 1, 15, 18, 28, 17, 14, 20, 27, 13,...\n",
       "      3        [16, 1, 2, 21, 23, 24, 26, 20, 31, 27, 14, 17,...\n",
       "      4        [1, 2, 3, 20, 28, 4, 19, 18, 13, 24, 30, 16, 2...\n",
       "      5        [2, 3, 4, 16, 17, 18, 29, 5, 19, 31, 21, 15, 2...\n",
       "      6        [28, 14, 13, 1, 3, 4, 19, 17, 21, 30, 18, 6, 2...\n",
       "      7        [2, 1, 3, 4, 5, 6, 26, 29, 27, 23, 17, 7, 14, ...\n",
       "      8        [3, 30, 1, 2, 4, 5, 7, 31, 28, 24, 15, 18, 16,...\n",
       "      9        [1, 2, 3, 5, 6, 7, 8, 14, 26, 20, 28, 23, 9, 1...\n",
       "      10       [2, 18, 1, 3, 4, 5, 6, 7, 8, 9, 24, 31, 19, 26...\n",
       "      11       [2, 1, 3, 4, 5, 6, 7, 8, 9, 10, 24, 26, 18, 20...\n",
       "      12       [1, 2, 3, 4, 5, 6, 7, 8, 9, 10, 29, 26, 30, 15...\n",
       "2015  1        [8, 10, 28, 23, 18, 19, 21, 24, 20, 31, 25, 26...\n",
       "      2        [9, 1, 18, 26, 21, 15, 16, 19, 28, 22, 13, 4, ...\n",
       "      3        [8, 1, 2, 13, 28, 14, 15, 27, 20, 23, 18, 17, ...\n",
       "      4        [8, 24, 16, 15, 19, 13, 22, 26, 4, 23, 30, 21,...\n",
       "      5        [9, 27, 1, 2, 3, 4, 14, 30, 20, 28, 13, 24, 15...\n",
       "      6        [1, 2, 3, 5, 29, 22, 27, 23, 18, 30, 19, 6, 16...\n",
       "      7        [19, 25, 17, 20, 18, 14, 30, 1, 2, 3, 4, 13, 3...\n",
       "      8        [31, 27, 1, 3, 6, 7, 22, 18, 20, 28, 8, 16, 30...\n",
       "      9        [8, 19, 1, 3, 4, 5, 24, 18, 9, 20, 13, 22, 17,...\n",
       "      10       [21, 22, 10, 1, 2, 4, 5, 6, 7, 8, 9, 16, 30, 2...\n",
       "      11                         [10, 1, 4, 6, 7, 8, 9, 5, 2, 3]\n",
       "      12                         [7, 1, 2, 3, 4, 6, 9, 10, 5, 8]\n",
       "Name: Day, dtype: object"
      ]
     },
     "execution_count": 26,
     "metadata": {},
     "output_type": "execute_result"
    }
   ],
   "source": [
    "df_train.groupby(by=['Year', 'Month']).Day.unique()"
   ]
  },
  {
   "cell_type": "markdown",
   "metadata": {},
   "source": [
    "delete the missing months: 2015-11 & 2015-12"
   ]
  },
  {
   "cell_type": "code",
   "execution_count": 27,
   "metadata": {},
   "outputs": [],
   "source": [
    "df_train.to_feather(f'{TMP_DIR}/train')"
   ]
  },
  {
   "cell_type": "code",
   "execution_count": 35,
   "metadata": {},
   "outputs": [
    {
     "name": "stderr",
     "output_type": "stream",
     "text": [
      "/home/alex/anaconda3/envs/fastai-cpu/lib/python3.6/site-packages/ipykernel_launcher.py:1: FutureWarning: by argument to sort_index is deprecated, please use .sort_values(by=...)\n",
      "  \"\"\"Entry point for launching an IPython kernel.\n"
     ]
    },
    {
     "data": {
      "text/plain": [
       "39067"
      ]
     },
     "execution_count": 35,
     "metadata": {},
     "output_type": "execute_result"
    }
   ],
   "source": [
    "len(df_train) - len(df_train[df_train.date < '2015-11-1'].sort_index(by='date', ascending=False))"
   ]
  },
  {
   "cell_type": "code",
   "execution_count": 34,
   "metadata": {},
   "outputs": [
    {
     "data": {
      "text/plain": [
       "2935849"
      ]
     },
     "execution_count": 34,
     "metadata": {},
     "output_type": "execute_result"
    }
   ],
   "source": []
  },
  {
   "cell_type": "code",
   "execution_count": null,
   "metadata": {},
   "outputs": [],
   "source": []
  }
 ],
 "metadata": {
  "kernelspec": {
   "display_name": "Python 3",
   "language": "python",
   "name": "python3"
  }
 },
 "nbformat": 4,
 "nbformat_minor": 2
}
